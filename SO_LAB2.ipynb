{
 "cells": [
  {
   "cell_type": "markdown",
   "metadata": {
    "id": "r69NinaO5QKZ"
   },
   "source": [
    "# Sistemas Operacionais\n",
    "## Laboratório 02 - Threads e comunicação entre processos\n",
    "\n",
    "### **Introdução**\n",
    "\n",
    "Neste laboratório aprenderemos a realizar a comunicação entre processos e a manipulação de threads usando o pacote POSIX e a linguagem C no Linux. O foco desta aula será no aspecto prático do conteúdo, todavia um breve resumo da teoria será exposto, quando necessário, para auxiliar na execução dos exercícios.\n",
    "\n",
    "Ao final desta aula, o estudante deverá ser capaz de:\n",
    "* Fazer o estabelecimento de uma área de memória compartilhada;\n",
    "* Realizar a criação de threads;\n",
    "* Fazer a manipulação de variáveis via memória compartilhada e threads.\n",
    "\n",
    "### **Instruções**\n",
    "\n",
    "Esse laboratório foi feito usando a ferramenta Colab do Google para evitar a necessidade de instalação de programas extras e máquinas virtuais. Para completá-lo, é esperado que o aluno siga os comandos em cada etapa e procure entender o que acontece com o sistema quando determinado código é executado. É recomendado também que o aluno tente introduzir pequenas modificações nos códigos fornecidos para testar seu aprendizado.\n",
    "\n",
    "Além disso, este material contém 6 exercícios práticos, cada um valendo 0,75 pontos na nota da unidade 1. **O estudante deve escolher 4 deles** para resolver, enviando um breve relatório contendo capturas de tela das saídas obtidas para o SIGAA ao final do exercício. Além disso, os códigos criados também deverão ser entregues. O prazo de submissão da atividade vai até as 23:59 do dia 21/10/2024. **A professora se absterá de dar orientações sobre programação até o prazo final do exercício, todavia o estudante poderá consultar todo o material que achar necessário**.\n"
   ]
  },
  {
   "cell_type": "markdown",
   "metadata": {
    "id": "YAUhUDqhKLoO"
   },
   "source": [
    "### **Parte 1 - Comunicação entre processos via compartilhamento de memória**\n",
    "Como vimos em nossas aulas teóricas, os processos têm espaços de endereçamentos próprios, os quais, por via de regra, não se comunicam entre si. Quando um processo deseja trocar informações com outros processos, ele pode usar dois modelos de comunicação: transmissão de mensagens ou memória compartilhada.\n",
    "\n",
    "No modelo de comunicação via memória compartilhada, os processos comunicam ao sistema operacional que desejam estabelecer uma região de memória que poderá ser acessada por mais de um processo. Isto é feito por meio das chamadas de sistema *shmget*, que cria a memória compartilhada, e *shmat* que anexa a memória compartilhada ao espaço de endereçamento do processo, retornando um ponteiro de acesso à tal memória.\n",
    "\n",
    "Ao final da comunicação, os processos podem desanexar a memória por meio da chamada de sistema *shmdt* e removê-la via *shmctl*. Observe a utilização de tais chamadas de sistema no código abaixo, no qual o processo pai lê o que o filho escreveu em um espaço de memória compartilhada."
   ]
  },
  {
   "cell_type": "code",
   "execution_count": 14,
   "metadata": {
    "colab": {
     "base_uri": "https://localhost:8080/"
    },
    "id": "Ku26kq2YLn91",
    "outputId": "8dde5f3b-3bd6-4296-cfa6-9472e94f9482"
   },
   "outputs": [
    {
     "name": "stdout",
     "output_type": "stream",
     "text": [
      "Overwriting sharedMemory.c\n"
     ]
    }
   ],
   "source": [
    "%%writefile sharedMemory.c\n",
    "#include <sys/types.h>\n",
    "#include <sys/wait.h>\n",
    "#include <stdio.h>\n",
    "#include <unistd.h>\n",
    "#include <sys/shm.h>\n",
    "#include <sys/stat.h>\n",
    "#include <stdlib.h>\n",
    "\n",
    "int main(int argc, char **argv)\n",
    "{\n",
    "  // Criando o segmento de memoria compartilhada com o tamanho de 10 chars\n",
    "  int segment_id=shmget(IPC_PRIVATE, 10*sizeof(char),S_IRUSR|S_IWUSR);\n",
    "  // Criando o ponteiro que vai apontar para o endereço de memória compartilhada\n",
    "  char *sharedMemory;\n",
    "  pid_t pid=fork(); // Funcao usada para criar um novo processo\n",
    "  if(pid<0){ // Erro na criacao do processo\n",
    "    printf(\"Sou o processo %d e nao consegui criar um novo processo.\\n\",getpid());\n",
    "    return 1;\n",
    "  }else if(pid==0){ // Processo filho\n",
    "    // Anexando o segmento de memoria compartilhada\n",
    "    sharedMemory=(char *) shmat(segment_id, NULL,0);\n",
    "    // Escrevendo na memória compartilhada\n",
    "    sprintf(sharedMemory, \"Olá, processo pai, sou o seu filho e o meu ID é %d.\",getpid());\n",
    "    // Desanexando a memória compartilhada\n",
    "    shmdt(sharedMemory);\n",
    "    // Encerrando o processo filho\n",
    "    exit(0);\n",
    "  }else{ // Processo pai\n",
    "    // Fazendo o pai esperar que o filho termine de escrever\n",
    "    wait(NULL);\n",
    "    // Salvando o ponteiro que aponta para a memória compartilhada\n",
    "    sharedMemory=(char *) shmat(segment_id, NULL,0);\n",
    "    // Imprimindo mensagem deixada pelo processo filho\n",
    "    printf(\"%s\\n\",sharedMemory);\n",
    "    // Removendo o segmento de memória compartilhada\n",
    "    shmctl(segment_id, IPC_RMID,NULL);\n",
    "  }\n",
    "  return 0;\n",
    "}\n"
   ]
  },
  {
   "cell_type": "code",
   "execution_count": 15,
   "metadata": {
    "colab": {
     "base_uri": "https://localhost:8080/"
    },
    "id": "4hQcMatZXEK7",
    "outputId": "934257b7-bf5a-451e-e440-9bcf9ee33f77"
   },
   "outputs": [
    {
     "name": "stdout",
     "output_type": "stream",
     "text": [
      "Olá, processo pai, sou o seu filho e o meu ID é 17442.\n"
     ]
    }
   ],
   "source": [
    "!gcc ./sharedMemory.c -o sharedMemory\n",
    "!./sharedMemory"
   ]
  },
  {
   "cell_type": "markdown",
   "metadata": {
    "id": "zXjMfYTTv4t0"
   },
   "source": [
    "**Exercício 1**\n",
    "\n",
    "Modifique o código acima para fazer com que dois processos filhos alterem uma memória compartilhada contendo um inteiro. Faça o processo pai esperar por seus dois filhos para depois imprimir o valor da variável na tela. Dica: olhe o código do exercício 3 do Laboratório 1.\n",
    "\n",
    "\n",
    "---\n",
    "\n",
    "\n",
    "\n",
    "**Exercício 2**\n",
    "\n",
    "Utilizando comunicação entre processos, crie um código que escreva a Sequência de Fibonacci, com o parâmetro n sendo uma variável global. Tal sequência deve ser gerada por um processo filho, mas deve ser impressa na tela pelo processo pai. Dica: olhe o código do desafio do Laboratório 1.\n",
    "\n",
    "\n",
    "---\n",
    "\n",
    "\n",
    "\n",
    "**Exercício 3**\n",
    "\n",
    "Usando comunicação entre processos, escreva um código que realiza a soma de *n* números naturais, sendo *n* uma variável global. Cada processo deve fazer apenas a soma de dois números e o resultado final deve ser retornado pelo primeiro processo. Por exemplo, o processo 1 deve fazer a soma de 0+1, o processo 2 vai pegar esse resultado e somar com 2, e assim por diante.\n",
    "\n",
    "\n",
    "---\n",
    "\n"
   ]
  },
  {
   "cell_type": "markdown",
   "metadata": {
    "id": "X9vcRp4J1LBi"
   },
   "source": [
    "### **Parte 2 - Threads**\n",
    "Threads são linhas de execução. Cada processo tem ao menos uma thread, mas pode conter várias, dividindo assim sua execução em várias tarefas menores.\n",
    "\n",
    "Para criar uma thread, usamos a função *pthread_create*. Tal função retorna um int que indica o status da criação, sendo 0, se ela foi bem sucedida, ou outro valor, se houve algum problema. Além disso, ela tem os seguintes argumentos:\n",
    "1. Ponteiro que armazena o identificador da thread;\n",
    "2. Atributos da thread. Caso queira os atributos padrão, use NULL;\n",
    "3. Ponteiro da função a ser usada para a thread. Tal função tem um único argumento: um ponteiro para void;\n",
    "4. Um ponteiro para o argumento da função do ponto 3.\n",
    "\n",
    "Outras funções úteis no gerenciamento das threads são a *pthread_exit*, a qual encerra a thread, e a *pthread_join*, que faz uma thread aguardar o encerramento de outra thread especificada. Veja a utilização dessas funções no exemplo abaixo, que faz *n* threads imprimirem uma mensagem na tela.\n",
    "\n",
    "\n",
    "\n"
   ]
  },
  {
   "cell_type": "code",
   "execution_count": 3,
   "metadata": {
    "colab": {
     "base_uri": "https://localhost:8080/"
    },
    "id": "bYoXFa_uJHJv",
    "outputId": "5a7cef80-53ff-40c7-bc2e-8fc655482451"
   },
   "outputs": [
    {
     "name": "stdout",
     "output_type": "stream",
     "text": [
      "Writing helloThreads.c\n"
     ]
    }
   ],
   "source": [
    "|%%writefile helloThreads.c\n",
    "#include <pthread.h>\n",
    "#include <sys/types.h>\n",
    "#include <sys/wait.h>\n",
    "#include <stdio.h>\n",
    "#include <unistd.h>\n",
    "#include <sys/shm.h>\n",
    "#include <sys/stat.h>\n",
    "#include <stdlib.h>\n",
    "\n",
    "// Variavel global que define o numero de threads\n",
    "int numberOfThreads=5;\n",
    "\n",
    "// Funcao que as threads vao usar para dar um ola\n",
    "void *printHello(void *tid){\n",
    "  printf(\"Olá, eu sou a thread %d\\n\", (int)(size_t) tid);\n",
    "  pthread_exit(NULL);\n",
    "}\n",
    "\n",
    "int main(int argc, char **argv)\n",
    "{\n",
    "  pthread_t threads[numberOfThreads];\n",
    "  for (int i=0;i<numberOfThreads;i++){\n",
    "    // Criando uma thread e passando para ela a funcao printHello\n",
    "    int status=pthread_create(&threads[i],NULL,printHello,(void *)(size_t) i);\n",
    "\n",
    "    // Se o status nao for 0, houve um erro na criacao da thread\n",
    "    if(status!=0){\n",
    "      printf(\"Erro na criação da thread %d. Código de erro %d.\",i, status);\n",
    "      return 1;\n",
    "    }\n",
    "\n",
    "    // Faz a thread principal esperar pela thread filha. Similar a funcao wait.\n",
    "    pthread_join(threads[i],NULL);\n",
    "  }\n",
    "  return 0;\n",
    "}"
   ]
  },
  {
   "cell_type": "code",
   "execution_count": 4,
   "metadata": {
    "colab": {
     "base_uri": "https://localhost:8080/"
    },
    "id": "zosFKTf8cBJz",
    "outputId": "0d9f85df-4635-4b45-a16b-35849dd8dd00"
   },
   "outputs": [
    {
     "name": "stdout",
     "output_type": "stream",
     "text": [
      "Olá, eu sou a thread 0\n",
      "Olá, eu sou a thread 1\n",
      "Olá, eu sou a thread 2\n",
      "Olá, eu sou a thread 3\n",
      "Olá, eu sou a thread 4\n"
     ]
    }
   ],
   "source": [
    "!gcc ./helloThreads.c -o helloThreads\n",
    "!./helloThreads"
   ]
  },
  {
   "cell_type": "markdown",
   "metadata": {
    "id": "wFGKRfikJdBT"
   },
   "source": [
    "**Exercício 4**\n",
    "\n",
    "Comente a linha *pthread_join(threads[i],NULL)* no código acima e veja o que acontece. Qual o motivo da mudança no output? Faça modificações no código para obter novamente a saída original sem necessitar usar um *threads_join*. Dica: threads também podem dormir.\n",
    "\n",
    "\n",
    "\n",
    "---\n",
    "\n"
   ]
  },
  {
   "cell_type": "markdown",
   "metadata": {
    "id": "cClPjVgGKrXj"
   },
   "source": [
    "Threads de um mesmo processo compartilham do mesmo espaço de endereçamento deste. Desta forma, todas elas têm acesso às variáveis globais do processo, podendo modificá-las sem grandes complicações.\n",
    "\n",
    "Veja no código abaixo como incrementar uma variável global fazendo uso de threads."
   ]
  },
  {
   "cell_type": "code",
   "execution_count": 13,
   "metadata": {
    "colab": {
     "base_uri": "https://localhost:8080/"
    },
    "id": "1IvpVo5kHVDW",
    "outputId": "995757dd-ac0f-4584-81fe-571d9b121ff3"
   },
   "outputs": [
    {
     "name": "stdout",
     "output_type": "stream",
     "text": [
      "Overwriting multipleThreadsOneVariable.c\n"
     ]
    }
   ],
   "source": [
    "%%writefile multipleThreadsOneVariable.c\n",
    "#include <pthread.h>\n",
    "#include <sys/types.h>\n",
    "#include <sys/wait.h>\n",
    "#include <stdio.h>\n",
    "#include <unistd.h>\n",
    "#include <sys/shm.h>\n",
    "#include <sys/stat.h>\n",
    "#include <stdlib.h>\n",
    "\n",
    "// Variavel global que define o numero de threads\n",
    "int numberOfThreads=5;\n",
    "// Variável global que define valor\n",
    "int valor=0;\n",
    "\n",
    "// Funcao que as threads vao usar para alterar valor\n",
    "void *alterarValor(void *tid){\n",
    "  valor=valor+5;\n",
    "  printf(\"Olá, eu sou a thread %d. Eu alterei valor para %d\\n\", (int)(size_t) tid, valor);\n",
    "  pthread_exit(NULL);\n",
    "}\n",
    "\n",
    "int main(int argc, char **argv)\n",
    "{\n",
    "  pthread_t threads[numberOfThreads];\n",
    "  for (int i=0;i<numberOfThreads;i++){\n",
    "    // Criando uma thread e passando para ela a funcao alterarValor\n",
    "    int status=pthread_create(&threads[i],NULL,alterarValor,(void *)(size_t) i);\n",
    "\n",
    "    // Se o status nao for 0, houve um erro na criacao da thread\n",
    "    if(status!=0){\n",
    "      printf(\"Erro na criação da thread %d. Código de erro %d.\",i, status);\n",
    "      return 1;\n",
    "    }\n",
    "\n",
    "    // Faz a thread principal esperar pela thread filha. Similar a funcao wait.\n",
    "    pthread_join(threads[i],NULL);\n",
    "  }\n",
    "  printf(\"Olá, eu sou a thread original. Valor é igual a %d\\n\", valor);\n",
    "  return 0;\n",
    "}"
   ]
  },
  {
   "cell_type": "code",
   "execution_count": 11,
   "metadata": {
    "colab": {
     "base_uri": "https://localhost:8080/"
    },
    "id": "0mhVfUTuLhul",
    "outputId": "14e3bf6a-244a-4cfe-d5f6-591dd6504266"
   },
   "outputs": [
    {
     "name": "stdout",
     "output_type": "stream",
     "text": [
      "Olá, eu sou a thread 0. Eu alterei valor para 5\n",
      "Olá, eu sou a thread 1. Eu alterei valor para 10\n",
      "Olá, eu sou a thread 2. Eu alterei valor para 15\n",
      "Olá, eu sou a thread 3. Eu alterei valor para 20\n",
      "Olá, eu sou a thread 4. Eu alterei valor para 25\n",
      "Olá, eu sou a thread original. Valor é igual a 25\n"
     ]
    }
   ],
   "source": [
    "!gcc ./multipleThreadsOneVariable.c -o multipleThreadsOneVariable\n",
    "!./multipleThreadsOneVariable"
   ]
  },
  {
   "cell_type": "markdown",
   "metadata": {
    "id": "XsEpk45uxbOp"
   },
   "source": [
    "**Exercício 5**\n",
    "\n",
    "Refaça o exercício 2 usando threads.\n",
    "\n",
    "\n",
    "---\n",
    "\n",
    "\n",
    "\n",
    "**Exercício 6**\n",
    "\n",
    "Refaça o exercício 3 usando threads.\n",
    "\n",
    "\n",
    "---\n",
    "\n",
    "\n",
    "\n"
   ]
  }
 ],
 "metadata": {
  "colab": {
   "provenance": []
  },
  "kernelspec": {
   "display_name": "Python 3 (ipykernel)",
   "language": "python",
   "name": "python3"
  },
  "language_info": {
   "codemirror_mode": {
    "name": "ipython",
    "version": 3
   },
   "file_extension": ".py",
   "mimetype": "text/x-python",
   "name": "python",
   "nbconvert_exporter": "python",
   "pygments_lexer": "ipython3",
   "version": "3.12.4"
  }
 },
 "nbformat": 4,
 "nbformat_minor": 4
}
